{
  "nbformat": 4,
  "nbformat_minor": 0,
  "metadata": {
    "colab": {
      "name": "Phase_3_Overview",
      "provenance": [],
      "authorship_tag": "ABX9TyNuudQENd9HAtni6CURninW",
      "include_colab_link": true
    },
    "kernelspec": {
      "name": "python3",
      "display_name": "Python 3"
    },
    "language_info": {
      "name": "python"
    }
  },
  "cells": [
    {
      "cell_type": "markdown",
      "metadata": {
        "id": "view-in-github",
        "colab_type": "text"
      },
      "source": [
        "<a href=\"https://colab.research.google.com/github/CCIR-Academy/Techcamp2021S-Phase3/blob/main/Phase_3_Overview.ipynb\" target=\"_parent\"><img src=\"https://colab.research.google.com/assets/colab-badge.svg\" alt=\"Open In Colab\"/></a>"
      ]
    },
    {
      "cell_type": "markdown",
      "metadata": {
        "id": "-__-REybFF5a"
      },
      "source": [
        "# Phase 3: Presentable Elaborated Projects on Realms of Interests\n",
        "## Course Design\n",
        "\n",
        "### Goals\n",
        "1. Experience how FinTech works and master the more basic skills required.\n",
        "\n"
      ]
    },
    {
      "cell_type": "markdown",
      "metadata": {
        "id": "7373O2K3Fqrf"
      },
      "source": [
        "### Audience Assumption\n",
        "  - Adequate on-hand experience with coding\n",
        "  - Sufficient immersion with different realms"
      ]
    },
    {
      "cell_type": "markdown",
      "metadata": {
        "id": "iD2W9d7FF8b2"
      },
      "source": [
        "## Prepare for Phase 3"
      ]
    }
  ]
}